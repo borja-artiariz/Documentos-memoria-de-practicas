{
  "cells": [
    {
      "cell_type": "markdown",
      "id": "d4be5628-ab12-4c07-924b-aaca45e7a5b7",
      "metadata": {
        "id": "d4be5628-ab12-4c07-924b-aaca45e7a5b7"
      },
      "source": [
        "<h2>Direcciones de ruta</h2>"
      ]
    },
    {
      "cell_type": "markdown",
      "id": "2621705c-156c-41d1-9a7b-269ddbd3906f",
      "metadata": {
        "id": "2621705c-156c-41d1-9a7b-269ddbd3906f"
      },
      "source": [
        "Para proceder, en primer lugar, <b>establecemos las rutas necesarias</b>. Estas serán las rutas de las carpetas y archivos que utilizaremos.\n",
        "Es <b>recomendable ejecutar la siguiente celda al comienzo de cualquier sesión</b>, ya que estas constantes se usan en diferentes procesos (extracción de features, análisis etc):"
      ]
    },
    {
      "cell_type": "code",
      "execution_count": null,
      "id": "d3ff3d5c-ae66-4f0b-a6dd-54d634a214af",
      "metadata": {
        "id": "d3ff3d5c-ae66-4f0b-a6dd-54d634a214af"
      },
      "outputs": [],
      "source": [
        "# DIRECCIONES: Introducir direcciones de ruta de los videos, del ejecutable de\n",
        "# openSmile, y de la configuración de openSmile. Indicar también dónde se desean\n",
        "# almacenar los audios y los .csv que se extraen.\n",
        "\n",
        "videos_path = ''\n",
        "opensmile_path = ''\n",
        "config_path = ''\n",
        "audios_path = ''\n",
        "audios_cut_path = ''\n",
        "csv_path = ''"
      ]
    },
    {
      "cell_type": "markdown",
      "id": "895514d0-11af-4458-8f83-0f3bb07a16ff",
      "metadata": {
        "id": "895514d0-11af-4458-8f83-0f3bb07a16ff"
      },
      "source": [
        "<h2>Extracción de Features</h2>\n",
        "\n",
        "El siguiente bloque de código incluye las funciones de Python que se van a utilizar para realizar el procesado de los audios, desde la extracción de audio a partir de los vídeos hasta la extracción de las propias features.\n",
        "\n",
        "Antes de nada, <b>OpenSmile debe haber sido descargado e instalado</b>, preferiblemente en una carpeta 'OpenSmile' que se encuentre en la misma carpeta que el proyecto de Python, para <b>facilitar el uso de rutas relativas</b>. Ver Paso 1 en las Instrucciones o la [guía de OpenSmile](https://audeering.github.io/opensmile/get-started.html#obtaining-and-installing-opensmile)."
      ]
    },
    {
      "cell_type": "code",
      "execution_count": null,
      "id": "4ec30908-d183-4bf8-924d-0f8b8470ee63",
      "metadata": {
        "id": "4ec30908-d183-4bf8-924d-0f8b8470ee63"
      },
      "outputs": [],
      "source": [
        "from moviepy.editor import VideoFileClip\n",
        "import os\n",
        "import subprocess\n",
        "from pydub import AudioSegment\n",
        "\n",
        "\n",
        "class FeatureExtractor:\n",
        "    def __init__(self, ruta_videos, ruta_audios, ruta_opensmile, ruta_config, ruta_csv, ruta_audios_cut):\n",
        "        self.videos_path = ruta_videos\n",
        "        self.opensmile_path = ruta_opensmile\n",
        "        self.config_path = ruta_config\n",
        "        self.audios_path = ruta_audios\n",
        "        self.csv_path = ruta_csv\n",
        "        self.audios_cut_path = ruta_audios_cut\n",
        "\n",
        "    def extraer_audio(self):\n",
        "        for video in os.listdir(self.videos_path):\n",
        "            if video.endswith(\".MOV\") or video.endswith(\".mp4\") or video.endswith(\".MTS\"):\n",
        "                video_py = VideoFileClip(f'{self.videos_path}/{video}')\n",
        "                audio_py = video_py.audio\n",
        "                audio_py.write_audiofile(f'{self.audios_path}/{os.path.splitext(video)[0]}.wav', codec='pcm_s16le',\n",
        "                                         ffmpeg_params=[\"-ac\", \"1\"])\n",
        "\n",
        "    def cortar_audio(self, start, end):\n",
        "        for audio in os.listdir(self.audios_path):\n",
        "            if audio.endswith(\".wav\"):\n",
        "                start_ms = start * 1000  # Where the first number is the second. The same happens with end_ms\n",
        "                end_ms = end * 1000\n",
        "                audio_path = AudioSegment.from_file(f'{self.audios_path}/{os.path.splitext(audio)[0]}.wav')\n",
        "                output_audio = audio_path[start_ms:end_ms]\n",
        "                output_audio.export(f'{self.audios_cut_path}/{os.path.splitext(audio)[0]}.wav', format=\"wav\")\n",
        "\n",
        "    def extraer_features(self):\n",
        "        if not os.listdir(self.audios_cut_path):\n",
        "            self.audios_cut_path = self.audios_path\n",
        "\n",
        "        for audio in os.listdir(self.audios_cut_path):\n",
        "\n",
        "            if audio.endswith(\".wav\"):\n",
        "                comando = (\n",
        "                    f'\"{self.opensmile_path}\" '\n",
        "                    f'-C \"{self.config_path}\" '\n",
        "                    f'-I \"{os.path.join(self.audios_cut_path, audio)}\" '\n",
        "                    f'-O \"{os.path.join(self.csv_path, os.path.splitext(audio)[0])}.csv\"'\n",
        "                )\n",
        "                subprocess.run(comando, shell=True)\n"
      ]
    },
    {
      "cell_type": "markdown",
      "id": "08a57c08-5557-41f0-a6ba-edf8d30a9b77",
      "metadata": {
        "id": "08a57c08-5557-41f0-a6ba-edf8d30a9b77"
      },
      "source": [
        "Antes de procededer, debemos configurar el número de frames y las porciones de audio a analizar deben modificarse manualmente en el archivo:\n",
        "\n",
        "<b>'config/shared/FrameModeFunctionals.conf'</b>\n",
        "\n",
        "que se encontrará en la carpeta principal de OpenSmile. Ver Paso 2 en el documento 'Instrucciones', o la [guía de openSmile](https://audeering.github.io/opensmile/get-started.html#common-options-for-all-standard-configuration-files).\n",
        "\n",
        "A continuación, llamamos a la clase que hemos creado anteriormente. Ahora podremos ejecutar cada una de las funciones que deseemos."
      ]
    },
    {
      "cell_type": "code",
      "execution_count": null,
      "id": "46b1d331-1a56-464a-a539-49595afaec0b",
      "metadata": {
        "id": "46b1d331-1a56-464a-a539-49595afaec0b"
      },
      "outputs": [],
      "source": [
        "audio_processor = FeatureExtractor(videos_path, audios_path, opensmile_path, config_path, csv_path, audios_cut_path)"
      ]
    },
    {
      "cell_type": "markdown",
      "id": "2da9210e-2f8e-47d7-9045-6e4711710f72",
      "metadata": {
        "id": "2da9210e-2f8e-47d7-9045-6e4711710f72"
      },
      "source": [
        "<b>Extracción de audios desde los vídeos</b>. Los vídeos deberían estr en formato MOV o mp4, y los audios se extraerán en formato wav."
      ]
    },
    {
      "cell_type": "code",
      "execution_count": null,
      "id": "e09f1377-f741-4ef1-9980-e4d215bb70fb",
      "metadata": {
        "id": "e09f1377-f741-4ef1-9980-e4d215bb70fb"
      },
      "outputs": [],
      "source": [
        "audio_processor.extraer_audio()"
      ]
    },
    {
      "cell_type": "markdown",
      "id": "b849b65c-4a92-441e-b08a-e684b690df7d",
      "metadata": {
        "id": "b849b65c-4a92-441e-b08a-e684b690df7d"
      },
      "source": [
        "<b>Cortar los audios para que tengan una duración homogénea y en los mismos segmentos</b>. 'start' indica a partir de qué segundo queremos cortar, y 'end' en qué segundo queremos finalizar."
      ]
    },
    {
      "cell_type": "code",
      "execution_count": null,
      "id": "708e2c5a-ad45-473c-81e4-660925f06eb9",
      "metadata": {
        "id": "708e2c5a-ad45-473c-81e4-660925f06eb9"
      },
      "outputs": [],
      "source": [
        "audio_processor.cortar_audio(start = 10, end = 70)"
      ]
    },
    {
      "cell_type": "markdown",
      "id": "be37496a-311f-47f4-8ee1-57e909eda58a",
      "metadata": {
        "id": "be37496a-311f-47f4-8ee1-57e909eda58a"
      },
      "source": [
        "<b>Extracción de las features</b>. Se seguirá la configuración especificada en la constante 'config_path' y el FrameMode en 'config/shared/FrameModeFunctionals.conf':"
      ]
    },
    {
      "cell_type": "code",
      "execution_count": null,
      "id": "ec19a73e-7404-4b14-87b9-ccec5de7093d",
      "metadata": {
        "id": "ec19a73e-7404-4b14-87b9-ccec5de7093d"
      },
      "outputs": [],
      "source": [
        "audio_processor.extraer_features()"
      ]
    }
  ],
  "metadata": {
    "kernelspec": {
      "display_name": "Python 3 (ipykernel)",
      "language": "python",
      "name": "python3"
    },
    "language_info": {
      "codemirror_mode": {
        "name": "ipython",
        "version": 3
      },
      "file_extension": ".py",
      "mimetype": "text/x-python",
      "name": "python",
      "nbconvert_exporter": "python",
      "pygments_lexer": "ipython3",
      "version": "3.11.7"
    },
    "colab": {
      "provenance": []
    }
  },
  "nbformat": 4,
  "nbformat_minor": 5
}